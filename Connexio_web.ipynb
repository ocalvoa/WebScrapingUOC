{
 "cells": [
  {
   "cell_type": "markdown",
   "metadata": {},
   "source": [
    "# 1. Creació de l'estructura on es guardaran les dades\n",
    "Es generen tres classes:\n",
    "<p>1) Classe eleccions\n",
    "<p>2) Classe municipi\n",
    "<p>3) Classe partit\n",
    "<p>La primera classe detalla l'any de les eleccions i conté una llista amb tots els partits polítics. \n",
    "<p>La segona classe detalla tots els atributs que conté cada partit polític com vots, el percentatge de vots respecte el total, majoria absoluta, majria relativa i empats.\n",
    "<p>La tercera classe detalla tots els atributs que conté cada partit polític com vots, el percentatge de vots respecte el total i regidors."
   ]
  },
  {
   "cell_type": "code",
   "execution_count": 1,
   "metadata": {},
   "outputs": [],
   "source": [
    "class eleccions:\n",
    "    # Inicialitzador de la classe\n",
    "    def __init__(self, ano):\n",
    "        self.ano = ano\n",
    "        self.municipis = []\n",
    "\n",
    "class municipi:\n",
    "    # Inicialitzador de la classe\n",
    "    def __init__(self, nom, url):\n",
    "        self.__nom = nom\n",
    "        self.__url = url\n",
    "        self.partits = []\n",
    "        self.__cens = 0\n",
    "        self.__escrutat = '00,00%'\n",
    "        self.__abstencio = 0\n",
    "        self.__vots_comp = 0\n",
    "        self.__vots_nuls = 0\n",
    "        self.__vots_blanc = 0\n",
    "    # Getters de cadascun dels atributs\n",
    "    def getNom(self):\n",
    "        return self.__nom\n",
    "    def getUrl(self):\n",
    "        return self.__url\n",
    "    def getPartit(self,index):\n",
    "        return self.partits[index]\n",
    "    def getLengthPartits(self):\n",
    "        return len(self.partits)\n",
    "    def setPartit(self,partit):\n",
    "        self.partits.append(partit)\n",
    "    def setAtributs(self,cens,escrutat,abstencio,vots_comp,vots_nuls,vots_blanc):\n",
    "        self.__cens = cens\n",
    "        self.__escrutat = escrutat\n",
    "        self.__abstencio = abstencio\n",
    "        self.__vots_comp = vots_comp\n",
    "        self.__vots_nuls = vots_nuls\n",
    "        self.__vots_blanc = vots_blanc \n",
    "    def getAtributs(self):\n",
    "        return print('Nom: ',self.__nom,' Cens: ',self.__cens,' Escrutat: ',self.__escrutat,\\\n",
    "                     'Abstencio: ',self.__abstencio,'Vots comptabilitats: ',self.__vots_comp,\\\n",
    "                     ' Vots nuls: ',self.__vots_nuls,' Vots blancs: ',self.__vots_blanc)\n",
    "\n",
    "class partit:\n",
    "    # Inicialitzador de la classe\n",
    "    def __init__(self,nom,acronim,vots,percent,regidors):\n",
    "        self.__nom = nom\n",
    "        self.__acronim = acronim\n",
    "        self.__vots = vots\n",
    "        self.__percent = percent\n",
    "        self.__regidors = regidors\n",
    "    # Getters de cadascun dels atributs\n",
    "    def getNom(self):\n",
    "        return self.__nom\n",
    "    def getAcronim(self):\n",
    "        return self.__acronim\n",
    "    def getVots(self):\n",
    "        return self.__vots\n",
    "    def getPercent(self):\n",
    "        return self.__percent\n",
    "    def getRegidors(self):\n",
    "        return self.__regidors\n",
    "    def getTot(self):\n",
    "        return print('Nom: ',self.__acronim,' Vots: ',self.__vots,' %: ',self.__percent,\\\n",
    "                     ' Regidos: ',self.__regidors)\n",
    "\n",
    "  "
   ]
  },
  {
   "cell_type": "markdown",
   "metadata": {},
   "source": [
    "<p> A continuació es detallen les funcions que s'utilitzen per la manipulació i extraccio de les dades:\n",
    "<p>1) llistaMunicipis: Funció que cerca el llistat de municipis de les eleccions a Catalunya.  "
   ]
  },
  {
   "cell_type": "code",
   "execution_count": 2,
   "metadata": {},
   "outputs": [],
   "source": [
    "def llistaMunicipis(llista_municipis,llista_municipis_1,web):\n",
    "    # INPUT: Directori web on cerca els municipis i llistes municipis buides\n",
    "    # OUTPUT: Retorna llistes amb tots els municipis i la seva URL associades\n",
    "\n",
    "    # Càrrega i obtenció de la pàgina web\n",
    "    page = requests.get(web)\n",
    "    soup = BeautifulSoup(page.content,\"html.parser\")\n",
    "    \n",
    "    counter = 1 #variable contador que indica a quina linia es treballa\n",
    "    for tag in soup.find_all('li', class_ = 'list-group-item'):\n",
    "        # Els municipis comencen al 47 i acaben al 993. (1-47 provincies i comarques de catalunya i del 994-final C.C.A.A).\n",
    "        if counter >= 47 and counter <= 993: \n",
    "            # S'obté el nom de cada municipi i la seva URL\n",
    "            nom = tag.a.string # S'accedeix al nom\n",
    "            url =tag.a['href'] # S'accedeix a la url\n",
    "\n",
    "            # S'afegueix el municipi a la llista de municipis\n",
    "            llista_municipis.append(municipi(nom,url))\n",
    "            llista_municipis_1.append(municipi(nom,url))\n",
    "        #S'incrementa en 1 el contador\n",
    "        counter +=1"
   ]
  },
  {
   "cell_type": "markdown",
   "metadata": {},
   "source": [
    "<p> 2) lecturaMunicipis: Funció que extreu d'una taula HTML la informació relativa a cada partit polític corresponent a un municipi."
   ]
  },
  {
   "cell_type": "code",
   "execution_count": 3,
   "metadata": {},
   "outputs": [],
   "source": [
    "def lecturaMunicipis(tag_taula,municipi):\n",
    "    # INPUT: tag_taula: tag amb la taula HTML amb els partits\n",
    "    #        municipi: variable tipus municipi amb la llista de partits buida\n",
    "    # OUTPUT: municipi modificada ambla llista de partits plena\n",
    "    \n",
    "    # llistes nom_partits i acronim partits buides\n",
    "    noms_partits = []\n",
    "    acronim_partits = []\n",
    "    # Llista auxiliar valors buida\n",
    "    valors = []\n",
    "    \n",
    "    # Extracció de nom i l'acrònim de cada partit\n",
    "    #for i in soup.table.find_all('td',class_ =\"linkeleccionsd3 atribpartido\"):\n",
    "    for i in tag_taula.find_all('td',class_ =\"linkeleccionsd3 atribpartido\"):\n",
    "        noms_partits.append(i['title'])\n",
    "        acronim_partits.append(i.findNext(text = True))\n",
    "\n",
    "\n",
    "    # Extracció dels valors {vots,%,Regidors}, per cada partit->3 valors.\n",
    "    for i in tag_taula.find_all('td',class_ =\"linkeleccionsd3 text-right\"):\n",
    "        valors.append(i.findNext(text = True))\n",
    "\n",
    "    # Es junta tot\n",
    "    i = 0\n",
    "    j = 0\n",
    "\n",
    "    if len(noms_partits)*3 == len(valors):\n",
    "        while i<len(valors):\n",
    "            vots = valors[i]\n",
    "            i +=1\n",
    "            percent = valors[i]\n",
    "            i +=1\n",
    "            regidors = valors[i]\n",
    "            i +=1\n",
    "            partt = partit(noms_partits[j],acronim_partits[j],vots,percent,regidors)\n",
    "            municipi.setPartit(partt)\n",
    "            #print('Nom: ',acronim_partits[j],' Vots: ',vots,' %: ',percent,' Regidos: ',regidors)\n",
    "            j +=1\n",
    "        #print(\"Obtenció dades correcte\")\n",
    "    else:\n",
    "        print(\"¡¡ERROR!! - Obtenció dades incorrecte\")"
   ]
  },
  {
   "cell_type": "markdown",
   "metadata": {},
   "source": [
    "<p> 3) lecturaAtributs: Funció que extreu d'una taula HTML els atribut corresponents a cada localitat. La informació que s'extreu és Cens, total escrutat (%), abstencions, vots comptabilitzats, vots nuls i vots en blanc."
   ]
  },
  {
   "cell_type": "code",
   "execution_count": 4,
   "metadata": {},
   "outputs": [],
   "source": [
    "def lecturaAtributs(tag,eleccions):\n",
    "    # INPUT: tag: variable tipus tag que conté la taula amb les dades de cens, etc, del municipi\n",
    "    #        eleccions: llista de classe municipi   \n",
    "    # OUTPUT: Variable municipi actualitzada amb els atributs\n",
    "    \n",
    "    aux = tag.findNext('td')\n",
    "    cens = aux.findNext('td')\n",
    "    aux = cens.findNext('td')\n",
    "    aux = aux.findNext('td')\n",
    "    escrutat = aux.findNext('td')\n",
    "    aux = escrutat.findNext('td')\n",
    "\n",
    "    vots_comp = aux.findNext('td')\n",
    "    vots_comp_percent = vots_comp.findNext('td')\n",
    "\n",
    "    aux = vots_comp_percent.findNext('td')\n",
    "    abs_comp = aux.findNext('td')\n",
    "    abs_comp_percent = abs_comp.findNext('td')\n",
    "\n",
    "    aux = abs_comp_percent.findNext('td')\n",
    "    vots_nuls = aux.findNext('td')\n",
    "    vots_nuls_percent = vots_nuls.findNext('td')\n",
    "\n",
    "    aux = vots_nuls_percent.findNext('td')\n",
    "    vots_blanc = aux.findNext('td')\n",
    "    vots_blanc_percent = vots_blanc.findNext('td')\n",
    "    \n",
    "    # Es mostra per pantalla les dades extretes de cada municipi com a check point\n",
    "    eleccions.setAtributs(cens.string,escrutat.string,abs_comp.string,vots_comp.string,\\\n",
    "                          vots_nuls.string,vots_blanc.string)"
   ]
  },
  {
   "cell_type": "markdown",
   "metadata": {},
   "source": [
    "<p> 4) extraccioDades: Funció que llegeix la llista de municipis i extreu tota la informació de les eleccions de 2019 i 2015 per municipis."
   ]
  },
  {
   "cell_type": "code",
   "execution_count": 5,
   "metadata": {},
   "outputs": [],
   "source": [
    "def extraccioDades(elec_2019,elec_2015):\n",
    "    # INPUT: elec_20XX: llista de classe municipi amb noms i urls de cadascun ()\n",
    "    # OUTPUT: elec_20XX: modificada amb els atributs de cada municipi i la llsta de partits polítics\n",
    "    \n",
    "    counter = 0 # S'inicia contador a 0\n",
    "    #while counter < len(llista_municipis):\n",
    "    while counter < 1: #Test de 2 municipis\n",
    "        # Es fa la lectura de URL de cada municipi\n",
    "        url = elec_2019[counter].getUrl()\n",
    "        # Càrrega i obtenció de la pàgina web\n",
    "        page = requests.get(url)\n",
    "        soup = BeautifulSoup(page.content,\"html.parser\")\n",
    "        \n",
    "        # Obtenció de les taules en format TAG\n",
    "        taula_2019 = soup.find('table')             # Partits polítics 2019\n",
    "        dades_2019 = taula_2019.find_next('table')  # Informació extra 2019\n",
    "        taula_2015 = dades_2019.find_next('table')  # Partits polítics 2015\n",
    "        dades_2015 = taula_2015.find_next('table')  # Informació extra 2015\n",
    "              \n",
    "        # S'extreuen els atributs dels municipis\n",
    "        lecturaAtributs(dades_2019,elec_2019[counter])\n",
    "        elec_2019[counter].getAtributs()\n",
    "        lecturaAtributs(dades_2015,elec_2015[counter])\n",
    "        elec_2015[counter].getAtributs()\n",
    "        #S'extreuen els partits politics de cada municipi\n",
    "        lecturaMunicipis(taula_2019,elec_2019[counter])\n",
    "        lecturaMunicipis(taula_2015,elec_2015[counter])\n",
    "        \n",
    "        counter += 1\n"
   ]
  },
  {
   "cell_type": "markdown",
   "metadata": {},
   "source": [
    "# 2. Descarrega de les dades\n",
    "Es descarrega la informació del lloc web d'interes, en aquest cas de les eleccions del 2015 i 2019 per municipis a catalunya.\n"
   ]
  },
  {
   "cell_type": "code",
   "execution_count": 6,
   "metadata": {},
   "outputs": [],
   "source": [
    "# Carrega de llibreries necessaries\n",
    "import requests\n",
    "from bs4 import BeautifulSoup"
   ]
  },
  {
   "cell_type": "code",
   "execution_count": 7,
   "metadata": {
    "scrolled": true
   },
   "outputs": [
    {
     "name": "stdout",
     "output_type": "stream",
     "text": [
      "Nom:  Abella de la Conca  Cens:  146  Escrutat:  100,00% Abstencio:  24 Vots comptabilitats:  122  Vots nuls:  0  Vots blancs:  0\n",
      "Nom:  Abella de la Conca  Cens:  140  Escrutat:  100,00% Abstencio:  32 Vots comptabilitats:  108  Vots nuls:  3  Vots blancs:  0\n"
     ]
    }
   ],
   "source": [
    "# Es defineix la web de recerca\n",
    "web = \"https://www.naciodigital.cat/municipals2019\"\n",
    "\n",
    "# Es defineix les llistes de municipis buides. Els municipis són els mateixos per 2015 i 2019.\n",
    "elec_2019 = []\n",
    "elec_2015 = []\n",
    "\n",
    "# Es crida la funció llistaMunicipis()\n",
    "llistaMunicipis(elec_2019,elec_2015,web)\n",
    "\n",
    "# S'extreuen les dades\n",
    "extraccioDades(elec_2019,elec_2015)"
   ]
  },
  {
   "cell_type": "code",
   "execution_count": 8,
   "metadata": {},
   "outputs": [
    {
     "name": "stdout",
     "output_type": "stream",
     "text": [
      "Nom:   ERC-AM  Vots:  64  %:  52,46%  Regidos:  4\n"
     ]
    }
   ],
   "source": [
    "elec_2019[0].partits[0].getTot()\n"
   ]
  },
  {
   "cell_type": "code",
   "execution_count": 9,
   "metadata": {},
   "outputs": [
    {
     "name": "stdout",
     "output_type": "stream",
     "text": [
      "Nom:   JIAB - AM  Vots:  53  %:  50,48%  Regidos:  4\n"
     ]
    }
   ],
   "source": [
    "elec_2015[0].partits[0].getTot()"
   ]
  },
  {
   "cell_type": "code",
   "execution_count": null,
   "metadata": {},
   "outputs": [],
   "source": []
  }
 ],
 "metadata": {
  "kernelspec": {
   "display_name": "Python 3",
   "language": "python",
   "name": "python3"
  },
  "language_info": {
   "codemirror_mode": {
    "name": "ipython",
    "version": 3
   },
   "file_extension": ".py",
   "mimetype": "text/x-python",
   "name": "python",
   "nbconvert_exporter": "python",
   "pygments_lexer": "ipython3",
   "version": "3.7.4"
  }
 },
 "nbformat": 4,
 "nbformat_minor": 2
}
