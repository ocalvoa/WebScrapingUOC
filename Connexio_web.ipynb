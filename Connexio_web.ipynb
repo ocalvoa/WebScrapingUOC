{
 "cells": [
  {
   "cell_type": "markdown",
   "metadata": {},
   "source": [
    "# 1. Creació de l'estructura on es guardaran les dades\n",
    "Es generen tres classes:\n",
    "<p>1) Classe eleccions\n",
    "<p>2) Classe municipi\n",
    "<p>3) Classe partit\n",
    "<p>La primera classe detalla l'any de les eleccions i conté una llista amb tots els partits polítics. \n",
    "<p>La segona classe detalla tots els atributs que conté cada partit polític com vots, el percentatge de vots respecte el total, majoria absoluta, majria relativa i empats.\n",
    "<p>La tercera classe detalla tots els atributs que conté cada partit polític com vots, el percentatge de vots respecte el total i regidors."
   ]
  },
  {
   "cell_type": "code",
   "execution_count": 1,
   "metadata": {},
   "outputs": [],
   "source": [
    "class eleccions:\n",
    "    # Inicialitzador de la classe\n",
    "    def __init__(self, ano):\n",
    "        self.ano = ano\n",
    "        self.municipis = []\n",
    "\n",
    "class municipi:\n",
    "    # Inicialitzador de la classe\n",
    "    def __init__(self, nom, url):\n",
    "        self.__nom = nom\n",
    "        self.__url = url\n",
    "        self.partits = []\n",
    "    # Getters de cadascun dels atributs\n",
    "    def getNom(self):\n",
    "        return self.__nom\n",
    "    def getUrl(self):\n",
    "        return self.__url\n",
    "    def getPartit(self,index):\n",
    "        return self.partits[index]\n",
    "    def getLengthPartits(self):\n",
    "        return len(self.partits)\n",
    "    def setPartit(self,partit):\n",
    "        self.partits.append(partit)  \n",
    "\n",
    "class partit:\n",
    "    # Inicialitzador de la classe\n",
    "    def __init__(self,nom,acronim,vots,percent,regidors):\n",
    "        self.__nom = nom\n",
    "        self.__acronim = acronim\n",
    "        self.__vots = vots\n",
    "        self.__percent = percent\n",
    "        self.__regidors = regidors\n",
    "    # Getters de cadascun dels atributs\n",
    "    def getNom(self):\n",
    "        return self.__nom\n",
    "    def getAcronim(self):\n",
    "        return self.__acronim\n",
    "    def getVots(self):\n",
    "        return self.__vots\n",
    "    def getPercent(self):\n",
    "        return self.__percent\n",
    "    def getRegidors(self):\n",
    "        return self.__regidors\n",
    "\n",
    "  "
   ]
  },
  {
   "cell_type": "markdown",
   "metadata": {},
   "source": [
    "<p> A continuació es detallen les funcions que s'utilitzen per la manipulació i extraccio de les dades.A continuació es detallen les funcions generades:\n",
    "<p>1) llistaMunicipis: Funció que cerca el llistat de municipis de les eleccions a Catalunya.  "
   ]
  },
  {
   "cell_type": "code",
   "execution_count": 2,
   "metadata": {},
   "outputs": [],
   "source": [
    "def llistaMunicipis(llista_municipis,web):\n",
    "    # INPUT: Directori web on cerca els municipis i llista municipis buida\n",
    "    # OUTPUT: Retorna llista amb tots els municipis i la seva URL associats\n",
    "\n",
    "    # Càrrega i obtenció de la pàgina web\n",
    "    page = requests.get(web)\n",
    "    soup = BeautifulSoup(page.content,\"html.parser\")\n",
    "    \n",
    "    counter = 1 #variable contador que indica a quina linia es treballa\n",
    "    for tag in soup.find_all('li', class_ = 'list-group-item'):\n",
    "        # Els municipis comencen al 47 i acaben al 993. (1-47 provincies i comarques de catalunya i del 994-final C.C.A.A).\n",
    "        if counter >= 47 and counter <= 993: \n",
    "            # S'obté el nom de cada municipi i la seva URL\n",
    "            nom = tag.a.string # S'accedeix al nom\n",
    "            url =tag.a['href'] # S'accedeix a la url\n",
    "            # Es crida la classe municipi\n",
    "            mun = municipi(nom,url)\n",
    "            # S'afegueix el municipi a la llista de municipis\n",
    "            llista_municipis.append(mun)\n",
    "        #S'incrementa en 1 el contador\n",
    "        counter +=1"
   ]
  },
  {
   "cell_type": "markdown",
   "metadata": {},
   "source": [
    "<p> 2) "
   ]
  },
  {
   "cell_type": "code",
   "execution_count": null,
   "metadata": {},
   "outputs": [],
   "source": []
  },
  {
   "cell_type": "markdown",
   "metadata": {},
   "source": [
    "# 2. Descarrega de les dades\n",
    "Es descarrega la informació del lloc web d'interes, en aquest cas de les eleccions del 2015 i 2019 per municipis a catalunya.\n"
   ]
  },
  {
   "cell_type": "code",
   "execution_count": 3,
   "metadata": {},
   "outputs": [],
   "source": [
    "# Carrega de llibreries necessaries\n",
    "import requests\n",
    "from bs4 import BeautifulSoup"
   ]
  },
  {
   "cell_type": "code",
   "execution_count": 4,
   "metadata": {
    "scrolled": true
   },
   "outputs": [
    {
     "name": "stdout",
     "output_type": "stream",
     "text": [
      "Òrrius\n",
      "https://www.naciodigital.cat/municipals2019/municipi/08153/orrius\n"
     ]
    }
   ],
   "source": [
    "# Es defineix la web de recerca\n",
    "web = \"https://www.naciodigital.cat/municipals2019\"\n",
    "\n",
    "# Es defineix la llista de municipis buida. Els municipis són els mateixos per 2015 i 2019.\n",
    "llista_municipis = []\n",
    "\n",
    "# Es crida la funció llistaMunicipis()\n",
    "llistaMunicipis(llista_municipis,web)\n",
    "print(llista_municipis[-1].getNom())\n",
    "print(llista_municipis[-1].getUrl())\n",
    "\n",
    "#"
   ]
  },
  {
   "cell_type": "code",
   "execution_count": 5,
   "metadata": {},
   "outputs": [],
   "source": [
    "counter = 0 # S'inicia contador\n",
    "while counter < len(llista_municipis):\n",
    "    # Es fa la lectura de URL de cada municipi\n",
    "    url = llista_municipis[counter].getUrl()\n",
    "    #print(url)\n",
    "    \n",
    "    # Càrrega i obtenció de la pàgina web\n",
    "    #page = requests.get(url)\n",
    "    #soup = BeautifulSoup(page.content,\"html.parser\")\n",
    "    \n",
    "    #soup.find_all('li', class_ = 'list-group-item')\n",
    "    \n",
    "    counter += 1\n"
   ]
  },
  {
   "cell_type": "code",
   "execution_count": 27,
   "metadata": {},
   "outputs": [
    {
     "name": "stdout",
     "output_type": "stream",
     "text": [
      "https://www.naciodigital.cat/municipals2019/municipi/08153/orrius\n"
     ]
    }
   ],
   "source": [
    "url = llista_municipis[-1].getUrl()\n",
    "print(url)\n",
    "    \n",
    "# Càrrega i obtenció de la pàgina web\n",
    "page = requests.get(url)\n",
    "soup = BeautifulSoup(page.content,\"html.parser\")\n"
   ]
  },
  {
   "cell_type": "code",
   "execution_count": 28,
   "metadata": {},
   "outputs": [
    {
     "data": {
      "text/plain": [
       "<table class=\"table table-responsive table-striped taularesultatseleccions15 small\"><thead><tr><th>Partit</th><th class=\"text-right\">Vots</th><th class=\"text-right\">%</th><th class=\"text-right\">Regidors</th></tr></thead><tbody><tr class=\"linkeleccionsd3\" id=\"linksvgpath_semicercle08153_2019_0\" onmouseout=\"amagaValorEl15('semicercle08153_2019',0);\" onmouseover=\"mostraValorEl15('semicercle08153_2019',0);\"><td class=\"linkeleccionsd3 atribpartido\" title=\"ESQUERRA REPUBLICANA DE CATALUNYA - Acord Municipal\"><i class=\"fa fa-circle\" style=\"color:#FFB232;\"></i> ERC - AM<br/></td><td class=\"linkeleccionsd3 text-right\" id=\"linksvgpath_semicercle08153_2019_0\" onmouseout=\"amagaValorEl15('semicercle08153_2019',0);\" onmouseover=\"mostraValorEl15('semicercle08153_2019',0);\">330</td><td class=\"linkeleccionsd3 text-right\" id=\"linksvgpath_semicercle08153_2019_0\" onmouseout=\"amagaValorEl15('semicercle08153_2019',0);\" onmouseover=\"mostraValorEl15('semicercle08153_2019',0);\">78,20%</td><td class=\"linkeleccionsd3 text-right\" id=\"linksvgpath_semicercle08153_2019_0\" onmouseout=\"amagaValorEl15('semicercle08153_2019',0);\" onmouseover=\"mostraValorEl15('semicercle08153_2019',0);\">6</td></tr><tr class=\"linkeleccionsd3\" id=\"linksvgpath_semicercle08153_2019_1\" onmouseout=\"amagaValorEl15('semicercle08153_2019',1);\" onmouseover=\"mostraValorEl15('semicercle08153_2019',1);\"><td class=\"linkeleccionsd3 atribpartido\" title=\"JUNTS PER CATALUNYA - ÓRRIUS\"><i class=\"fa fa-circle\" style=\"color:#0E3A83;\"></i> JUNTS<br/></td><td class=\"linkeleccionsd3 text-right\" id=\"linksvgpath_semicercle08153_2019_1\" onmouseout=\"amagaValorEl15('semicercle08153_2019',1);\" onmouseover=\"mostraValorEl15('semicercle08153_2019',1);\">49</td><td class=\"linkeleccionsd3 text-right\" id=\"linksvgpath_semicercle08153_2019_1\" onmouseout=\"amagaValorEl15('semicercle08153_2019',1);\" onmouseover=\"mostraValorEl15('semicercle08153_2019',1);\">11,61%</td><td class=\"linkeleccionsd3 text-right\" id=\"linksvgpath_semicercle08153_2019_1\" onmouseout=\"amagaValorEl15('semicercle08153_2019',1);\" onmouseover=\"mostraValorEl15('semicercle08153_2019',1);\">1</td></tr><tr class=\"linkeleccionsd3\" id=\"linksvgpath_semicercle08153_2019_2\" onmouseout=\"amagaValorEl15('semicercle08153_2019',2);\" onmouseover=\"mostraValorEl15('semicercle08153_2019',2);\"><td class=\"linkeleccionsd3 atribpartido\" title=\"PARTIT DELS SOCIALISTES DE CATALUNYA - CANDIDATURA DE PROGÉS\"><i class=\"fa fa-circle\" style=\"color:#E20A16;\"></i> PSC-CP<br/></td><td class=\"linkeleccionsd3 text-right\" id=\"linksvgpath_semicercle08153_2019_2\" onmouseout=\"amagaValorEl15('semicercle08153_2019',2);\" onmouseover=\"mostraValorEl15('semicercle08153_2019',2);\">30</td><td class=\"linkeleccionsd3 text-right\" id=\"linksvgpath_semicercle08153_2019_2\" onmouseout=\"amagaValorEl15('semicercle08153_2019',2);\" onmouseover=\"mostraValorEl15('semicercle08153_2019',2);\">7,11%</td><td class=\"linkeleccionsd3 text-right\" id=\"linksvgpath_semicercle08153_2019_2\" onmouseout=\"amagaValorEl15('semicercle08153_2019',2);\" onmouseover=\"mostraValorEl15('semicercle08153_2019',2);\">0</td></tr></tbody></table>"
      ]
     },
     "execution_count": 28,
     "metadata": {},
     "output_type": "execute_result"
    }
   ],
   "source": [
    "#t = soup.find_all('div', class_ = 'col-md-5')\n",
    "#for tag in t:\n",
    "    #t =tag.table\n",
    "#soup.find('table')\n",
    "soup.table"
   ]
  },
  {
   "cell_type": "code",
   "execution_count": 29,
   "metadata": {},
   "outputs": [
    {
     "name": "stdout",
     "output_type": "stream",
     "text": [
      "Obtenció dades correcte\n"
     ]
    }
   ],
   "source": [
    "# Nom partit\n",
    "noms_partits = []\n",
    "acronim_partits = []\n",
    "#tag.table.find_all('td',class_ =\"linkeleccionsd3 atribpartido\")\n",
    "for i in soup.table.find_all('td',class_ =\"linkeleccionsd3 atribpartido\"):\n",
    "    noms_partits.append(i['title'])\n",
    "    acronim_partits.append(i.findNext(text = True))\n",
    "\n",
    "# Números d'atributs\n",
    "valors = []\n",
    "#tag.table.find_all('td',class_ =\"linkeleccionsd3 text-right\")\n",
    "for i in soup.table.find_all('td',class_ =\"linkeleccionsd3 text-right\"):\n",
    "    valors.append(i.findNext(text = True))\n",
    "    \n",
    "# Ho juntem tot\n",
    "i = 0\n",
    "j=0\n",
    "vots = []\n",
    "percent = []\n",
    "regidors = []\n",
    "if len(noms_partits)*3 == len(valors):\n",
    "    print(\"Obtenció dades correcte\")\n",
    "else:\n",
    "    print(\"Obtenció dades incorrecte\")\n",
    "        \n",
    "while i<len(valors):\n",
    "    vots.append(valors[i])\n",
    "    i +=1\n",
    "    percent.append(valors[i])\n",
    "    i +=1\n",
    "    regidors.append(valors[i])\n",
    "    i +=1"
   ]
  },
  {
   "cell_type": "code",
   "execution_count": 31,
   "metadata": {},
   "outputs": [
    {
     "data": {
      "text/plain": [
       "[' ERC - AM', ' JUNTS', ' PSC-CP']"
      ]
     },
     "execution_count": 31,
     "metadata": {},
     "output_type": "execute_result"
    }
   ],
   "source": [
    "acronim_partits"
   ]
  },
  {
   "cell_type": "code",
   "execution_count": null,
   "metadata": {},
   "outputs": [],
   "source": []
  }
 ],
 "metadata": {
  "kernelspec": {
   "display_name": "Python 3",
   "language": "python",
   "name": "python3"
  },
  "language_info": {
   "codemirror_mode": {
    "name": "ipython",
    "version": 3
   },
   "file_extension": ".py",
   "mimetype": "text/x-python",
   "name": "python",
   "nbconvert_exporter": "python",
   "pygments_lexer": "ipython3",
   "version": "3.7.4"
  }
 },
 "nbformat": 4,
 "nbformat_minor": 2
}
